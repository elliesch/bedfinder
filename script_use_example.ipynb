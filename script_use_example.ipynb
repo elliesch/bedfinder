{
 "cells": [
  {
   "cell_type": "code",
   "execution_count": 1,
   "id": "66609ed5-6788-410a-99d2-209a72a84062",
   "metadata": {
    "tags": []
   },
   "outputs": [],
   "source": [
    "from bedmap import ClassifyBedforms\n",
    "import pandas as pd"
   ]
  },
  {
   "cell_type": "code",
   "execution_count": 2,
   "id": "3f3a7c5a-ab2e-496e-a9d6-51b452bb764e",
   "metadata": {
    "tags": []
   },
   "outputs": [
    {
     "data": {
      "text/plain": [
       "\u001b[0;31mInit signature:\u001b[0m \u001b[0mClassifyBedforms\u001b[0m\u001b[0;34m(\u001b[0m\u001b[0minput_csv\u001b[0m\u001b[0;34m)\u001b[0m\u001b[0;34m\u001b[0m\u001b[0;34m\u001b[0m\u001b[0m\n",
       "\u001b[0;31mDocstring:\u001b[0m      <no docstring>\n",
       "\u001b[0;31mFile:\u001b[0m           ~/rf_bedform_mapping/bedmap.py\n",
       "\u001b[0;31mType:\u001b[0m           type\n",
       "\u001b[0;31mSubclasses:\u001b[0m     \n"
      ]
     },
     "metadata": {},
     "output_type": "display_data"
    }
   ],
   "source": [
    "ClassifyBedforms?"
   ]
  },
  {
   "cell_type": "code",
   "execution_count": 3,
   "id": "8e74b74a-afee-4bab-b84b-1783c3bbc801",
   "metadata": {
    "tags": []
   },
   "outputs": [],
   "source": [
    "bedform_csv = pd.read_csv('data/BedformData.csv')"
   ]
  },
  {
   "cell_type": "code",
   "execution_count": 4,
   "id": "8b31292a-8dbc-454c-9fad-b62ed093368e",
   "metadata": {
    "tags": []
   },
   "outputs": [
    {
     "name": "stderr",
     "output_type": "stream",
     "text": [
      "/home/jovyan/rf_bedform_mapping/bedmap.py:29: SettingWithCopyWarning: \n",
      "A value is trying to be set on a copy of a slice from a DataFrame\n",
      "\n",
      "See the caveats in the documentation: https://pandas.pydata.org/pandas-docs/stable/user_guide/indexing.html#returning-a-view-versus-a-copy\n",
      "  X['Topo'][X['Topo'] == 'O']=1\n",
      "/home/jovyan/rf_bedform_mapping/bedmap.py:30: SettingWithCopyWarning: \n",
      "A value is trying to be set on a copy of a slice from a DataFrame\n",
      "\n",
      "See the caveats in the documentation: https://pandas.pydata.org/pandas-docs/stable/user_guide/indexing.html#returning-a-view-versus-a-copy\n",
      "  X['Topo'][X['Topo'] == 'V']=0\n",
      "/home/jovyan/rf_bedform_mapping/bedmap.py:32: SettingWithCopyWarning: \n",
      "A value is trying to be set on a copy of a slice from a DataFrame\n",
      "\n",
      "See the caveats in the documentation: https://pandas.pydata.org/pandas-docs/stable/user_guide/indexing.html#returning-a-view-versus-a-copy\n",
      "  X['Bed'][X['Bed'] == 'C']=1\n",
      "/home/jovyan/rf_bedform_mapping/bedmap.py:33: SettingWithCopyWarning: \n",
      "A value is trying to be set on a copy of a slice from a DataFrame\n",
      "\n",
      "See the caveats in the documentation: https://pandas.pydata.org/pandas-docs/stable/user_guide/indexing.html#returning-a-view-versus-a-copy\n",
      "  X['Bed'][X['Bed'] == 'S']=0\n"
     ]
    }
   ],
   "source": [
    "bedforms = ClassifyBedforms(bedform_csv)"
   ]
  },
  {
   "cell_type": "code",
   "execution_count": 6,
   "id": "37a8ce34-0684-40df-b0b9-e174831e5511",
   "metadata": {
    "tags": []
   },
   "outputs": [],
   "source": [
    "classified_bedforms = bedforms.bedform"
   ]
  },
  {
   "cell_type": "code",
   "execution_count": 7,
   "id": "1691a244-b1d6-4786-83a1-891fd6d108f4",
   "metadata": {
    "tags": []
   },
   "outputs": [],
   "source": [
    "input_data = bedforms.X_test"
   ]
  },
  {
   "cell_type": "code",
   "execution_count": 8,
   "id": "a0c0971d-dd28-4dce-8dda-e7a69e5a5732",
   "metadata": {
    "tags": []
   },
   "outputs": [
    {
     "data": {
      "text/plain": [
       "array([0, 0, 0, ..., 0, 0, 0])"
      ]
     },
     "execution_count": 8,
     "metadata": {},
     "output_type": "execute_result"
    }
   ],
   "source": [
    "classified_bedforms"
   ]
  },
  {
   "cell_type": "code",
   "execution_count": 9,
   "id": "377dea92-c4a1-435a-b845-9d4dc14e232f",
   "metadata": {
    "tags": []
   },
   "outputs": [
    {
     "data": {
      "text/html": [
       "<div>\n",
       "<style scoped>\n",
       "    .dataframe tbody tr th:only-of-type {\n",
       "        vertical-align: middle;\n",
       "    }\n",
       "\n",
       "    .dataframe tbody tr th {\n",
       "        vertical-align: top;\n",
       "    }\n",
       "\n",
       "    .dataframe thead th {\n",
       "        text-align: right;\n",
       "    }\n",
       "</style>\n",
       "<table border=\"1\" class=\"dataframe\">\n",
       "  <thead>\n",
       "    <tr style=\"text-align: right;\">\n",
       "      <th></th>\n",
       "      <th>Topo</th>\n",
       "      <th>Bed</th>\n",
       "      <th>Elong</th>\n",
       "      <th>Area</th>\n",
       "    </tr>\n",
       "  </thead>\n",
       "  <tbody>\n",
       "    <tr>\n",
       "      <th>0</th>\n",
       "      <td>1</td>\n",
       "      <td>0</td>\n",
       "      <td>5.099000</td>\n",
       "      <td>46.451500</td>\n",
       "    </tr>\n",
       "    <tr>\n",
       "      <th>1</th>\n",
       "      <td>1</td>\n",
       "      <td>0</td>\n",
       "      <td>2.083810</td>\n",
       "      <td>152.718411</td>\n",
       "    </tr>\n",
       "    <tr>\n",
       "      <th>2</th>\n",
       "      <td>1</td>\n",
       "      <td>0</td>\n",
       "      <td>1.660917</td>\n",
       "      <td>242.190686</td>\n",
       "    </tr>\n",
       "    <tr>\n",
       "      <th>3</th>\n",
       "      <td>1</td>\n",
       "      <td>0</td>\n",
       "      <td>1.476006</td>\n",
       "      <td>5.949322</td>\n",
       "    </tr>\n",
       "    <tr>\n",
       "      <th>4</th>\n",
       "      <td>1</td>\n",
       "      <td>0</td>\n",
       "      <td>1.414200</td>\n",
       "      <td>9.290300</td>\n",
       "    </tr>\n",
       "    <tr>\n",
       "      <th>...</th>\n",
       "      <td>...</td>\n",
       "      <td>...</td>\n",
       "      <td>...</td>\n",
       "      <td>...</td>\n",
       "    </tr>\n",
       "    <tr>\n",
       "      <th>585791</th>\n",
       "      <td>1</td>\n",
       "      <td>1</td>\n",
       "      <td>1.300187</td>\n",
       "      <td>502.044592</td>\n",
       "    </tr>\n",
       "    <tr>\n",
       "      <th>585792</th>\n",
       "      <td>1</td>\n",
       "      <td>1</td>\n",
       "      <td>1.704889</td>\n",
       "      <td>1076.590518</td>\n",
       "    </tr>\n",
       "    <tr>\n",
       "      <th>585793</th>\n",
       "      <td>1</td>\n",
       "      <td>1</td>\n",
       "      <td>1.800724</td>\n",
       "      <td>128.956686</td>\n",
       "    </tr>\n",
       "    <tr>\n",
       "      <th>585794</th>\n",
       "      <td>1</td>\n",
       "      <td>1</td>\n",
       "      <td>1.774113</td>\n",
       "      <td>373.379542</td>\n",
       "    </tr>\n",
       "    <tr>\n",
       "      <th>585795</th>\n",
       "      <td>1</td>\n",
       "      <td>1</td>\n",
       "      <td>4.566742</td>\n",
       "      <td>124992.464500</td>\n",
       "    </tr>\n",
       "  </tbody>\n",
       "</table>\n",
       "<p>585796 rows × 4 columns</p>\n",
       "</div>"
      ],
      "text/plain": [
       "       Topo Bed     Elong           Area\n",
       "0         1   0  5.099000      46.451500\n",
       "1         1   0  2.083810     152.718411\n",
       "2         1   0  1.660917     242.190686\n",
       "3         1   0  1.476006       5.949322\n",
       "4         1   0  1.414200       9.290300\n",
       "...     ...  ..       ...            ...\n",
       "585791    1   1  1.300187     502.044592\n",
       "585792    1   1  1.704889    1076.590518\n",
       "585793    1   1  1.800724     128.956686\n",
       "585794    1   1  1.774113     373.379542\n",
       "585795    1   1  4.566742  124992.464500\n",
       "\n",
       "[585796 rows x 4 columns]"
      ]
     },
     "execution_count": 9,
     "metadata": {},
     "output_type": "execute_result"
    }
   ],
   "source": [
    "input_data"
   ]
  },
  {
   "cell_type": "code",
   "execution_count": null,
   "id": "2d05098f-e528-4cbe-b5a8-3b3769287e7d",
   "metadata": {},
   "outputs": [],
   "source": []
  }
 ],
 "metadata": {
  "kernelspec": {
   "display_name": "Python 3 (ipykernel)",
   "language": "python",
   "name": "python3"
  },
  "language_info": {
   "codemirror_mode": {
    "name": "ipython",
    "version": 3
   },
   "file_extension": ".py",
   "mimetype": "text/x-python",
   "name": "python",
   "nbconvert_exporter": "python",
   "pygments_lexer": "ipython3",
   "version": "3.10.13"
  }
 },
 "nbformat": 4,
 "nbformat_minor": 5
}
