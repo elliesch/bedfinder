{
 "cells": [
  {
   "cell_type": "markdown",
   "id": "15f77a59-d8a5-4c21-b1eb-ee9f514bbbba",
   "metadata": {},
   "source": [
    "Imports"
   ]
  },
  {
   "cell_type": "code",
   "execution_count": 2,
   "id": "da52dd8d-9fa9-463a-8c97-f9f26c5faf95",
   "metadata": {},
   "outputs": [
    {
     "name": "stdout",
     "output_type": "stream",
     "text": [
      "Collecting scikit-learn==1.1.3\n",
      "  Using cached scikit_learn-1.1.3-cp311-cp311-manylinux_2_17_x86_64.manylinux2014_x86_64.whl.metadata (10 kB)\n",
      "Requirement already satisfied: numpy>=1.17.3 in /srv/conda/envs/notebook/lib/python3.11/site-packages (from scikit-learn==1.1.3) (1.23.5)\n",
      "Requirement already satisfied: scipy>=1.3.2 in /srv/conda/envs/notebook/lib/python3.11/site-packages (from scikit-learn==1.1.3) (1.9.3)\n",
      "Requirement already satisfied: joblib>=1.0.0 in /srv/conda/envs/notebook/lib/python3.11/site-packages (from scikit-learn==1.1.3) (1.3.2)\n",
      "Requirement already satisfied: threadpoolctl>=2.0.0 in /srv/conda/envs/notebook/lib/python3.11/site-packages (from scikit-learn==1.1.3) (3.4.0)\n",
      "Using cached scikit_learn-1.1.3-cp311-cp311-manylinux_2_17_x86_64.manylinux2014_x86_64.whl (32.0 MB)\n",
      "Installing collected packages: scikit-learn\n",
      "  Attempting uninstall: scikit-learn\n",
      "    Found existing installation: scikit-learn 1.4.1.post1\n",
      "    Uninstalling scikit-learn-1.4.1.post1:\n",
      "      Successfully uninstalled scikit-learn-1.4.1.post1\n",
      "Successfully installed scikit-learn-1.1.3\n"
     ]
    }
   ],
   "source": [
    "! pip install scikit-learn==1.1.3"
   ]
  },
  {
   "cell_type": "code",
   "execution_count": 1,
   "id": "6b022760-a92f-4b49-b2af-5429767c56cc",
   "metadata": {},
   "outputs": [],
   "source": [
    "import numpy as np\n",
    "import pandas as pd\n",
    "from sklearn.metrics import accuracy_score, precision_score, recall_score, f1_score, roc_auc_score, average_precision_score, confusion_matrix"
   ]
  },
  {
   "cell_type": "code",
   "execution_count": 30,
   "id": "0128d447-f61f-413d-81bd-889d1cb48ddc",
   "metadata": {},
   "outputs": [],
   "source": [
    "import matplotlib.pyplot as plt"
   ]
  },
  {
   "cell_type": "code",
   "execution_count": 2,
   "id": "deae8b3d-88bc-4dfc-9cb7-197d969a33a8",
   "metadata": {},
   "outputs": [],
   "source": [
    "from bedmap import ClassifyBedforms"
   ]
  },
  {
   "cell_type": "markdown",
   "id": "36a4323d-9472-4d2b-8502-3cd1acda07f6",
   "metadata": {},
   "source": [
    "## Bring in the ground truth and estimated bedforms\n",
    "\n",
    "Estimate the bedforms using the RF model."
   ]
  },
  {
   "cell_type": "code",
   "execution_count": 3,
   "id": "b98fd4ed-e7f7-4e3b-97a9-8679fc75b98c",
   "metadata": {},
   "outputs": [],
   "source": [
    "bedforms = ClassifyBedforms('data/BedformData.csv')"
   ]
  },
  {
   "cell_type": "code",
   "execution_count": 4,
   "id": "a2540b91-f2c5-4c72-87c2-b44101489483",
   "metadata": {},
   "outputs": [],
   "source": [
    "estimated_bedforms = bedforms.predicted_bedform"
   ]
  },
  {
   "cell_type": "code",
   "execution_count": 6,
   "id": "de0f4b07-8aa6-47ce-a601-e4ee98ce0cb0",
   "metadata": {},
   "outputs": [],
   "source": [
    "data = pd.read_csv('data/BedformData.csv')"
   ]
  },
  {
   "cell_type": "code",
   "execution_count": 7,
   "id": "809bf7ed-be4f-4ffc-9dde-1a2e724b3e32",
   "metadata": {},
   "outputs": [
    {
     "data": {
      "text/plain": [
       "Index(['Topo', 'Bed', 'Area', 'Elong', 'Y/N'], dtype='object')"
      ]
     },
     "execution_count": 7,
     "metadata": {},
     "output_type": "execute_result"
    }
   ],
   "source": [
    "data.columns"
   ]
  },
  {
   "cell_type": "code",
   "execution_count": 13,
   "id": "6c596a20-adfd-4f4a-ae09-d9a6b1d23264",
   "metadata": {},
   "outputs": [],
   "source": [
    "measured_bedforms = np.array(data['Y/N'])"
   ]
  },
  {
   "cell_type": "code",
   "execution_count": 14,
   "id": "efdfce9f-1ded-4144-a35a-efa8e3886b7b",
   "metadata": {},
   "outputs": [
    {
     "data": {
      "text/plain": [
       "numpy.ndarray"
      ]
     },
     "execution_count": 14,
     "metadata": {},
     "output_type": "execute_result"
    }
   ],
   "source": [
    "type(measured_bedforms)"
   ]
  },
  {
   "cell_type": "code",
   "execution_count": 15,
   "id": "53a2c4d3-cf2b-4b95-bdf9-3647f3fe5364",
   "metadata": {},
   "outputs": [
    {
     "data": {
      "text/plain": [
       "numpy.ndarray"
      ]
     },
     "execution_count": 15,
     "metadata": {},
     "output_type": "execute_result"
    }
   ],
   "source": [
    "type(estimated_bedforms)"
   ]
  },
  {
   "cell_type": "markdown",
   "id": "e39ca19c-550d-4504-8362-ce283da10494",
   "metadata": {},
   "source": [
    "## Measure performance metrics"
   ]
  },
  {
   "cell_type": "markdown",
   "id": "45a504c6-e078-4662-9805-c2c4121b8f03",
   "metadata": {},
   "source": [
    "Performance metric are established, quantitative measures used to assess the effectiveness or quality of model predictions in machine learning tasks. We'll be using metrics available in the `sklearn` library.\n",
    "\n",
    "We'll start with the most straightforward measure, called \"accuracy,\" which measures the ratio of correctly classified instances over all instances. The equation is (Number of True Positives + Number of True Negatives)/(Number of all Predictions)."
   ]
  },
  {
   "cell_type": "code",
   "execution_count": 20,
   "id": "fbba8b9e-9f28-405f-aa48-0b60aa94c1ef",
   "metadata": {},
   "outputs": [
    {
     "name": "stdout",
     "output_type": "stream",
     "text": [
      "Accuracy: 0.9753907503636078\n"
     ]
    }
   ],
   "source": [
    "accuracy = accuracy_score(measured_bedforms, estimated_bedforms)\n",
    "print(\"Accuracy:\", accuracy)"
   ]
  },
  {
   "cell_type": "markdown",
   "id": "f31029e6-995f-466c-8648-0dd1ddb46806",
   "metadata": {},
   "source": [
    "\"Precision\" is also a commonly used metric, and measures the ratio of true positives to all predicted positives. The equation is (Number of True Positives)/(Number of True Positives + Number of False Positives)."
   ]
  },
  {
   "cell_type": "code",
   "execution_count": 21,
   "id": "b16acb69-5c2c-4775-9aa7-188e3ad11a57",
   "metadata": {},
   "outputs": [
    {
     "name": "stdout",
     "output_type": "stream",
     "text": [
      "Precision: 0.7055070517125588\n"
     ]
    }
   ],
   "source": [
    "precision = precision_score(measured_bedforms, estimated_bedforms)\n",
    "print(\"Precision:\", precision)"
   ]
  },
  {
   "cell_type": "markdown",
   "id": "ad3455eb-e6dd-4a1a-b2bf-f3044379e0ce",
   "metadata": {},
   "source": [
    "\"Recall\" measures the ratio of actual positives that are correctly identified by the classifier while accounting for positives missed by the classifier. It's calculated as (Number of True Positives)/(Number of True Positives + Number of False Negatives). Recall can be used to optimize in CV when the cost of false negatives is high, i.e. when a model has a tendency to underpredict, which the current state of our model does."
   ]
  },
  {
   "cell_type": "code",
   "execution_count": 22,
   "id": "3f31d6b5-9d7e-44be-8f3d-ff190d5ca159",
   "metadata": {},
   "outputs": [
    {
     "name": "stdout",
     "output_type": "stream",
     "text": [
      "Recall: 0.13433503836317134\n"
     ]
    }
   ],
   "source": [
    "recall = recall_score(measured_bedforms, estimated_bedforms)\n",
    "print(\"Recall:\", recall)"
   ]
  },
  {
   "cell_type": "markdown",
   "id": "35424571-443c-42d3-abb8-fb466bfcdb83",
   "metadata": {},
   "source": [
    "The \"F1 score\" is the harmonic mean between precision and recall. This means that an F1 score provides a balanced measure between precision and recall tipped towards the lower score, making it a useful metric for evaluating classifiers in situations where you want to consider both false positives and false negatives equally."
   ]
  },
  {
   "cell_type": "code",
   "execution_count": 23,
   "id": "6da12e76-5a99-463f-8600-2db672574b17",
   "metadata": {},
   "outputs": [
    {
     "name": "stdout",
     "output_type": "stream",
     "text": [
      "F1 Score: 0.22569556343323663\n"
     ]
    }
   ],
   "source": [
    "f1 = f1_score(measured_bedforms, estimated_bedforms)\n",
    "print(\"F1 Score:\", f1)"
   ]
  },
  {
   "cell_type": "markdown",
   "id": "f05f8453-026c-45f3-a368-be12946261bd",
   "metadata": {},
   "source": [
    "The \"ROC AUC Score\" (Receiver Operating Characteristic Area Under Curve Score) is a more complex score (read more here: https://towardsdatascience.com/understanding-auc-roc-curve-68b2303cc9c5), that is useful in evaluating how well a binary classifier can distinguish between the two classes by examining its trade-off between true positive rate and false positive rate across different threshold settings."
   ]
  },
  {
   "cell_type": "code",
   "execution_count": 25,
   "id": "8e987d9f-60c6-4905-9f72-fc451b3456ba",
   "metadata": {},
   "outputs": [
    {
     "name": "stdout",
     "output_type": "stream",
     "text": [
      "ROC AUC Score: 0.5663984314231476\n"
     ]
    }
   ],
   "source": [
    "roc_auc = roc_auc_score(measured_bedforms, estimated_bedforms)\n",
    "print(\"ROC AUC Score:\", roc_auc)"
   ]
  },
  {
   "cell_type": "markdown",
   "id": "82c00232-4e1c-4748-8b67-8c327b8a22c9",
   "metadata": {},
   "source": [
    "The \"PR AUC Score\" (Precision/Recall Area Under Curve Score) In summary, the PR-AUC score evaluates how well a binary classifier can trade off precision and recall. It is particularly useful when the classes are highly imbalanced (as they are for us), because it provides insights into the model's ability to correctly identify positive instances while minimizing false positives."
   ]
  },
  {
   "cell_type": "code",
   "execution_count": 27,
   "id": "79d0e489-2b00-4674-8f39-8e55c377fc9d",
   "metadata": {},
   "outputs": [
    {
     "name": "stdout",
     "output_type": "stream",
     "text": [
      "PR AUC Score: 0.11788645828536844\n"
     ]
    }
   ],
   "source": [
    "pr_auc = average_precision_score(measured_bedforms, estimated_bedforms)\n",
    "print(\"PR AUC Score:\", pr_auc)"
   ]
  },
  {
   "cell_type": "markdown",
   "id": "7e75c88f-9f1d-4467-a3ca-a6b63b4b0231",
   "metadata": {},
   "source": [
    "Finally, the assessment that you might have seen in other papers, the \"confusion matrix.\" The confusion matrix is nice because it allows for easy visualization of the model performance. In our case of binary classficiation, it is a 2x2 matrix showing number of true positives, number of false positives, number of true negatives, and number of false negatives. It can also be measured using `sklearn`."
   ]
  },
  {
   "cell_type": "code",
   "execution_count": 29,
   "id": "f9b4b17e-b96d-4d25-a265-179a5a922d7a",
   "metadata": {},
   "outputs": [],
   "source": [
    "conf_matrix = confusion_matrix(measured_bedforms, estimated_bedforms)"
   ]
  },
  {
   "cell_type": "code",
   "execution_count": 31,
   "id": "5dafc898-2451-4388-9c8f-fa97749c7320",
   "metadata": {},
   "outputs": [
    {
     "data": {
      "image/png": "[encoded data removed]",
      "text/plain": [
       "<Figure size 640x480 with 2 Axes>"
      ]
     },
     "metadata": {},
     "output_type": "display_data"
    }
   ],
   "source": [
    "# Plot confusion matrix\n",
    "plt.imshow(conf_matrix, interpolation='nearest', cmap=plt.cm.Blues)\n",
    "plt.title('Confusion Matrix')\n",
    "plt.colorbar()\n",
    "\n",
    "# Add labels\n",
    "classes = ['Negative', 'Positive']  # Assuming class names\n",
    "tick_marks = np.arange(len(classes))\n",
    "plt.xticks(tick_marks, classes, rotation=45)\n",
    "plt.yticks(tick_marks, classes)\n",
    "\n",
    "# Add text annotations\n",
    "thresh = conf_matrix.max() / 2.\n",
    "for i in range(conf_matrix.shape[0]):\n",
    "    for j in range(conf_matrix.shape[1]):\n",
    "        plt.text(j, i, format(conf_matrix[i, j], 'd'),\n",
    "                 horizontalalignment=\"center\",\n",
    "                 color=\"white\" if conf_matrix[i, j] > thresh else \"black\")\n",
    "\n",
    "plt.ylabel('True label')\n",
    "plt.xlabel('Predicted label')\n",
    "plt.tight_layout()\n",
    "plt.show()"
   ]
  },
  {
   "cell_type": "markdown",
   "id": "49e2ca89-9106-4193-b7cd-ec9609c485a3",
   "metadata": {},
   "source": [
    "This shows that we're really good at predicting when something isn't a bedform, but we aren't that great at predicting when something *is* a bedform. This is definitely something that we want to improve on, and we can increase this improvement through CV. We'll re-run our cross validation, and instead of relying on accuracy, which is weighted by how many true negatives we are measuring, we'll weight on F1 score and see how this improves our model fit."
   ]
  },
  {
   "cell_type": "code",
   "execution_count": null,
   "id": "65acbed1-a3bc-4d14-bff5-351a2ebd8e8e",
   "metadata": {},
   "outputs": [],
   "source": []
  }
 ],
 "metadata": {
  "kernelspec": {
   "display_name": "Python 3 (ipykernel)",
   "language": "python",
   "name": "python3"
  },
  "language_info": {
   "codemirror_mode": {
    "name": "ipython",
    "version": 3
   },
   "file_extension": ".py",
   "mimetype": "text/x-python",
   "name": "python",
   "nbconvert_exporter": "python",
   "pygments_lexer": "ipython3",
   "version": "3.11.8"
  }
 },
 "nbformat": 4,
 "nbformat_minor": 5
}
