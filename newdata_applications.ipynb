{
 "cells": [
  {
   "cell_type": "markdown",
   "id": "e6b7dad2-482e-41b0-a98d-855e6c2e27c8",
   "metadata": {},
   "source": [
    "## Apply models to new data"
   ]
  },
  {
   "cell_type": "code",
   "execution_count": 3,
   "id": "078fe291-0801-4ffa-9f58-685bfeb6f9bb",
   "metadata": {},
   "outputs": [],
   "source": [
    "#import all necessary files\n",
    "import pandas as pd\n",
    "import numpy as np\n",
    "import matplotlib.pyplot as plt\n",
    "import _pickle as cPickle\n",
    "from bedmap import ClassifyBedforms\n",
    "from utilities import plot_rate_matrix, thresh\n",
    "from sklearn.metrics import accuracy_score, precision_score, recall_score, f1_score, roc_auc_score, average_precision_score, confusion_matrix"
   ]
  },
  {
   "cell_type": "markdown",
   "id": "a99448c3-0480-4ab6-9c1b-8ff8c6a72b7e",
   "metadata": {},
   "source": [
    "New input datasets require columns depicting bed geology \"Bed\", local topographic conditions \"Topo\", bedform elongation \"Elong\", and bedform area \"Area\". To be able to trace features that are marked as \"bedforms\" or \"not bedforms\", rather than just determining performance statistics, numeric columns depicting \"site\" and \"ObjectID\" are required. "
   ]
  },
  {
   "cell_type": "code",
   "execution_count": 4,
   "id": "0250bc21-693d-40d5-bada-74ea86f975f9",
   "metadata": {},
   "outputs": [],
   "source": [
    "#upload data you've collected\n",
    "newdata = pd.read_csv('~/rf_bedform_mapping/data/wi_tpi.csv')"
   ]
  },
  {
   "cell_type": "markdown",
   "id": "d4e7a316-68a4-44e3-8d99-0fadbe807ece",
   "metadata": {},
   "source": [
    "### Run Random Forest Model on new data\n",
    "Notes: the input option \"model\" refers to which model you will run whether that is Random Forest, XGBoost, or the ensemble model. Setting \"probability=True\" will return probabilities of each feature being glacially derived, rather than binary 1/0 values. Setting \"probability=False\" and not specifying a threshold will default to a threshold of 50%. The input option \"threshold\" is the probability threshold. Metrics and comparisons for which model and probability threshold are best suited for your data may be found in \"performance_metrics.ipynb\"."
   ]
  },
  {
   "cell_type": "code",
   "execution_count": 8,
   "id": "b5c2fbf6-e45d-4641-aa27-8d20d49fdc66",
   "metadata": {},
   "outputs": [],
   "source": [
    "bedforms = ClassifyBedforms('~/rf_bedform_mapping/data/wi_tpi.csv',\n",
    "                            model='random_forest', \n",
    "                            threshold=0.5, probability=False)"
   ]
  },
  {
   "cell_type": "code",
   "execution_count": 9,
   "id": "5a78c73d-007b-47d8-8dcf-57a5984c6e69",
   "metadata": {},
   "outputs": [],
   "source": [
    "#add predictions to the original dataset\n",
    "predicted_bedforms = bedforms.predicted_bedforms\n",
    "newdata['bedform_pred'] = predicted_bedforms.tolist()"
   ]
  },
  {
   "cell_type": "code",
   "execution_count": 11,
   "id": "d7ef6b9f-cdd7-4548-9038-a1b3914bcc4c",
   "metadata": {},
   "outputs": [],
   "source": [
    "#Export new datafile with all columns of predicted bedforms\n",
    "newdata.to_csv('~/rf_bedform_mapping/data/wi_models_output.csv', index=False)"
   ]
  }
 ],
 "metadata": {
  "kernelspec": {
   "display_name": "Python 3 (ipykernel)",
   "language": "python",
   "name": "python3"
  },
  "language_info": {
   "codemirror_mode": {
    "name": "ipython",
    "version": 3
   },
   "file_extension": ".py",
   "mimetype": "text/x-python",
   "name": "python",
   "nbconvert_exporter": "python",
   "pygments_lexer": "ipython3",
   "version": "3.11.8"
  }
 },
 "nbformat": 4,
 "nbformat_minor": 5
}
