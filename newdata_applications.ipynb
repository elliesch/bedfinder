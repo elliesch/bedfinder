{
 "cells": [
  {
   "cell_type": "markdown",
   "id": "e6b7dad2-482e-41b0-a98d-855e6c2e27c8",
   "metadata": {},
   "source": [
    "## Apply models to new data"
   ]
  },
  {
   "cell_type": "code",
   "execution_count": 1,
   "id": "078fe291-0801-4ffa-9f58-685bfeb6f9bb",
   "metadata": {},
   "outputs": [],
   "source": [
    "#import all necessary files\n",
    "import pandas as pd\n",
    "import numpy as np\n",
    "import matplotlib.pyplot as plt\n",
    "import _pickle as cPickle\n",
    "from bedmap import ClassifyBedforms\n",
    "from utilities import plot_rate_matrix, thresh\n",
    "from sklearn.metrics import accuracy_score, precision_score, recall_score, f1_score, roc_auc_score, average_precision_score, confusion_matrix"
   ]
  },
  {
   "cell_type": "code",
   "execution_count": 2,
   "id": "db359091-2695-4d7c-b794-028127a86064",
   "metadata": {
    "collapsed": true,
    "jupyter": {
     "outputs_hidden": true
    }
   },
   "outputs": [
    {
     "name": "stdout",
     "output_type": "stream",
     "text": [
      "Collecting xgboost\n",
      "  Downloading xgboost-2.0.3-py3-none-manylinux2014_x86_64.whl.metadata (2.0 kB)\n",
      "Requirement already satisfied: numpy in /srv/conda/envs/notebook/lib/python3.11/site-packages (from xgboost) (1.23.5)\n",
      "Requirement already satisfied: scipy in /srv/conda/envs/notebook/lib/python3.11/site-packages (from xgboost) (1.9.3)\n",
      "Downloading xgboost-2.0.3-py3-none-manylinux2014_x86_64.whl (297.1 MB)\n",
      "\u001b[2K   \u001b[90m━━━━━━━━━━━━━━━━━━━━━━━━━━━━━━━━━━━━━━━━\u001b[0m \u001b[32m297.1/297.1 MB\u001b[0m \u001b[31m7.8 MB/s\u001b[0m eta \u001b[36m0:00:00\u001b[0m:00:01\u001b[0m00:01\u001b[0m\n",
      "\u001b[?25hInstalling collected packages: xgboost\n",
      "Successfully installed xgboost-2.0.3\n",
      "Note: you may need to restart the kernel to use updated packages.\n"
     ]
    }
   ],
   "source": [
    "pip install xgboost"
   ]
  },
  {
   "cell_type": "code",
   "execution_count": 3,
   "id": "2a432715-30b5-488f-8614-eacb722bff7f",
   "metadata": {
    "collapsed": true,
    "jupyter": {
     "outputs_hidden": true
    }
   },
   "outputs": [
    {
     "name": "stdout",
     "output_type": "stream",
     "text": [
      "Collecting imbalanced-learn\n",
      "  Downloading imbalanced_learn-0.12.2-py3-none-any.whl.metadata (8.2 kB)\n",
      "Requirement already satisfied: numpy>=1.17.3 in /srv/conda/envs/notebook/lib/python3.11/site-packages (from imbalanced-learn) (1.23.5)\n",
      "Requirement already satisfied: scipy>=1.5.0 in /srv/conda/envs/notebook/lib/python3.11/site-packages (from imbalanced-learn) (1.9.3)\n",
      "Requirement already satisfied: scikit-learn>=1.0.2 in /srv/conda/envs/notebook/lib/python3.11/site-packages (from imbalanced-learn) (1.4.1.post1)\n",
      "Requirement already satisfied: joblib>=1.1.1 in /srv/conda/envs/notebook/lib/python3.11/site-packages (from imbalanced-learn) (1.4.0)\n",
      "Requirement already satisfied: threadpoolctl>=2.0.0 in /srv/conda/envs/notebook/lib/python3.11/site-packages (from imbalanced-learn) (3.4.0)\n",
      "Downloading imbalanced_learn-0.12.2-py3-none-any.whl (257 kB)\n",
      "\u001b[2K   \u001b[90m━━━━━━━━━━━━━━━━━━━━━━━━━━━━━━━━━━━━━━━━\u001b[0m \u001b[32m258.0/258.0 kB\u001b[0m \u001b[31m2.9 MB/s\u001b[0m eta \u001b[36m0:00:00\u001b[0m:00:01\u001b[0m\n",
      "\u001b[?25hInstalling collected packages: imbalanced-learn\n",
      "Successfully installed imbalanced-learn-0.12.2\n",
      "Note: you may need to restart the kernel to use updated packages.\n"
     ]
    }
   ],
   "source": [
    "pip install imbalanced-learn"
   ]
  },
  {
   "cell_type": "markdown",
   "id": "a99448c3-0480-4ab6-9c1b-8ff8c6a72b7e",
   "metadata": {},
   "source": [
    "New input datasets require columns depicting bed geology \"Bed\", local topographic conditions \"Topo\", bedform elongation \"Elong\", and bedform area \"Area\". To be able to trace features that are marked as \"bedforms\" or \"not bedforms\", rather than just determining performance statistics, numeric columns depicting \"site\" and \"ObjectID\" are required. "
   ]
  },
  {
   "cell_type": "code",
   "execution_count": 2,
   "id": "0250bc21-693d-40d5-bada-74ea86f975f9",
   "metadata": {},
   "outputs": [],
   "source": [
    "#upload data you've collected\n",
    "newdata = pd.read_csv('~/rf_bedform_mapping/data/wi_tpi.csv')"
   ]
  },
  {
   "cell_type": "markdown",
   "id": "d4e7a316-68a4-44e3-8d99-0fadbe807ece",
   "metadata": {},
   "source": [
    "### Run Optimized Random Forest Model on new data\n",
    "Notes: the input option \"model\" refers to which model you will run whether that is Random Forest, XGBoost, or the ensemble model. Setting \"probability=True\" will return probabilities of each feature being glacially derived, rather than binary 1/0 values. Setting \"probability=False\" and not specifying a threshold will default to a threshold of 50%. The input option \"threshold\" is the probability threshold. Metrics and comparisons for which model and probability threshold are best suited for your data may be found in \"performance_metrics.ipynb\" and \"RandomForest.ipynb\"."
   ]
  },
  {
   "cell_type": "code",
   "execution_count": 4,
   "id": "b5c2fbf6-e45d-4641-aa27-8d20d49fdc66",
   "metadata": {},
   "outputs": [],
   "source": [
    "#optimized model for highest bedform detection probability\n",
    "rf_bedforms = ClassifyBedforms('~/rf_bedform_mapping/data/wi_tpi.csv',\n",
    "                            model='random_forest', \n",
    "                            threshold=0.5, probability=False)"
   ]
  },
  {
   "cell_type": "code",
   "execution_count": 5,
   "id": "5a78c73d-007b-47d8-8dcf-57a5984c6e69",
   "metadata": {},
   "outputs": [],
   "source": [
    "#add predictions to the original dataset\n",
    "rf_predicted_bedforms = rf_bedforms.predicted_bedforms\n",
    "newdata['rf_bedform_pred'] = rf_predicted_bedforms.tolist()"
   ]
  },
  {
   "cell_type": "markdown",
   "id": "24037435-61e9-45aa-b58e-d822769be23b",
   "metadata": {},
   "source": [
    "### Run Optimized XGBoost Model on new data"
   ]
  },
  {
   "cell_type": "code",
   "execution_count": 6,
   "id": "bd3c1b21",
   "metadata": {},
   "outputs": [],
   "source": [
    "#optimized model for highest bedform detection probability\n",
    "xgb_bedforms = ClassifyBedforms('~/rf_bedform_mapping/data/wi_tpi.csv',\n",
    "                            model= 'xgboost', \n",
    "                            threshold=0.4, probability=False)"
   ]
  },
  {
   "cell_type": "code",
   "execution_count": 7,
   "id": "c325d30a",
   "metadata": {},
   "outputs": [],
   "source": [
    "#add predictions to the original dataset\n",
    "xgb_predicted_bedforms = xgb_bedforms.predicted_bedforms\n",
    "newdata['xgb_bedform_pred'] = xgb_predicted_bedforms.tolist()"
   ]
  },
  {
   "cell_type": "markdown",
   "id": "3697917d-c4e8-44a9-a55f-9139ee2bc44d",
   "metadata": {},
   "source": [
    "### Run Optimized Ensemble Model on new data"
   ]
  },
  {
   "cell_type": "code",
   "execution_count": 8,
   "id": "2416072d",
   "metadata": {},
   "outputs": [],
   "source": [
    "#optimized model for highest bedform detection probability\n",
    "ens_bedforms = ClassifyBedforms('~/rf_bedform_mapping/data/wi_tpi.csv',\n",
    "                            model='ensemble_average', \n",
    "                            threshold=0.45, probability=False)"
   ]
  },
  {
   "cell_type": "code",
   "execution_count": 9,
   "id": "00fafe50",
   "metadata": {},
   "outputs": [],
   "source": [
    "#add predictions to the original dataset\n",
    "ens_predicted_bedforms = ens_bedforms.predicted_bedforms\n",
    "newdata['ens_bedform_pred'] = ens_predicted_bedforms.tolist()"
   ]
  },
  {
   "cell_type": "code",
   "execution_count": 11,
   "id": "d7ef6b9f-cdd7-4548-9038-a1b3914bcc4c",
   "metadata": {},
   "outputs": [],
   "source": [
    "#Export new datafile with all columns of predicted bedforms\n",
    "newdata.to_csv('~/rf_bedform_mapping/data/wi_models_output.csv', index=False)"
   ]
  }
 ],
 "metadata": {
  "kernelspec": {
   "display_name": "Python 3 (ipykernel)",
   "language": "python",
   "name": "python3"
  },
  "language_info": {
   "codemirror_mode": {
    "name": "ipython",
    "version": 3
   },
   "file_extension": ".py",
   "mimetype": "text/x-python",
   "name": "python",
   "nbconvert_exporter": "python",
   "pygments_lexer": "ipython3",
   "version": "3.11.8"
  }
 },
 "nbformat": 4,
 "nbformat_minor": 5
}
