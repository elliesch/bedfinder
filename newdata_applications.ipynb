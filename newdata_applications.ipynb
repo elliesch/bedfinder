{
 "cells": [
  {
   "cell_type": "markdown",
   "id": "e6b7dad2-482e-41b0-a98d-855e6c2e27c8",
   "metadata": {},
   "source": [
    "## Apply models to new data"
   ]
  },
  {
   "cell_type": "code",
   "execution_count": 2,
   "id": "078fe291-0801-4ffa-9f58-685bfeb6f9bb",
   "metadata": {},
   "outputs": [],
   "source": [
    "#import all necessary files\n",
    "import pandas as pd\n",
    "import numpy as np\n",
    "import matplotlib.pyplot as plt\n",
    "import _pickle as cPickle\n",
    "from bedmap import ClassifyBedforms\n",
    "from utilities import plot_rate_matrix, thresh\n",
    "from sklearn.metrics import accuracy_score, precision_score, recall_score, f1_score, roc_auc_score, average_precision_score, confusion_matrix"
   ]
  },
  {
   "cell_type": "code",
   "execution_count": 22,
   "id": "db359091-2695-4d7c-b794-028127a86064",
   "metadata": {},
   "outputs": [
    {
     "name": "stdout",
     "output_type": "stream",
     "text": [
      "Requirement already satisfied: xgboost in /srv/conda/envs/notebook/lib/python3.11/site-packages (2.0.3)\n",
      "Requirement already satisfied: numpy in /srv/conda/envs/notebook/lib/python3.11/site-packages (from xgboost) (1.23.5)\n",
      "Requirement already satisfied: scipy in /srv/conda/envs/notebook/lib/python3.11/site-packages (from xgboost) (1.9.3)\n",
      "Note: you may need to restart the kernel to use updated packages.\n"
     ]
    }
   ],
   "source": [
    "pip install xgboost"
   ]
  },
  {
   "cell_type": "code",
   "execution_count": 23,
   "id": "2a432715-30b5-488f-8614-eacb722bff7f",
   "metadata": {},
   "outputs": [
    {
     "name": "stdout",
     "output_type": "stream",
     "text": [
      "Requirement already satisfied: imbalanced-learn in /srv/conda/envs/notebook/lib/python3.11/site-packages (0.12.2)\n",
      "Requirement already satisfied: numpy>=1.17.3 in /srv/conda/envs/notebook/lib/python3.11/site-packages (from imbalanced-learn) (1.23.5)\n",
      "Requirement already satisfied: scipy>=1.5.0 in /srv/conda/envs/notebook/lib/python3.11/site-packages (from imbalanced-learn) (1.9.3)\n",
      "Requirement already satisfied: scikit-learn>=1.0.2 in /srv/conda/envs/notebook/lib/python3.11/site-packages (from imbalanced-learn) (1.4.1.post1)\n",
      "Requirement already satisfied: joblib>=1.1.1 in /srv/conda/envs/notebook/lib/python3.11/site-packages (from imbalanced-learn) (1.4.0)\n",
      "Requirement already satisfied: threadpoolctl>=2.0.0 in /srv/conda/envs/notebook/lib/python3.11/site-packages (from imbalanced-learn) (3.4.0)\n",
      "Note: you may need to restart the kernel to use updated packages.\n"
     ]
    }
   ],
   "source": [
    "pip install imbalanced-learn"
   ]
  },
  {
   "cell_type": "markdown",
   "id": "a99448c3-0480-4ab6-9c1b-8ff8c6a72b7e",
   "metadata": {},
   "source": [
    "New input datasets require columns depicting bed geology \"Bed\", local topographic conditions \"Topo\", bedform elongation \"Elong\", and bedform area \"Area\". To be able to trace features that are marked as \"bedforms\" or \"not bedforms\", rather than just determining performance statistics, numeric columns depicting \"site\" and \"ObjectID\" are required. "
   ]
  },
  {
   "cell_type": "code",
   "execution_count": 3,
   "id": "0250bc21-693d-40d5-bada-74ea86f975f9",
   "metadata": {},
   "outputs": [],
   "source": [
    "#upload data you've collected\n",
    "newdata = pd.read_csv('~/rf_bedform_mapping/data/wi_McKenziefilter.csv')"
   ]
  },
  {
   "cell_type": "code",
   "execution_count": 4,
   "id": "b97f4bf5-59b4-4753-b3d4-a36574f7284b",
   "metadata": {},
   "outputs": [
    {
     "data": {
      "text/plain": [
       "Index(['ORIG_FID', 'Width', 'Length', 'Orient', 'Area', 'Elong', 'Bed', 'Topo',\n",
       "       'Y/N'],\n",
       "      dtype='object')"
      ]
     },
     "execution_count": 4,
     "metadata": {},
     "output_type": "execute_result"
    }
   ],
   "source": [
    "newdata.columns"
   ]
  },
  {
   "cell_type": "markdown",
   "id": "d4e7a316-68a4-44e3-8d99-0fadbe807ece",
   "metadata": {},
   "source": [
    "### Run Optimized Random Forest Model on new data\n",
    "Notes: the input option \"model\" refers to which model you will run whether that is Random Forest, XGBoost, or the ensemble model. Setting \"probability=True\" will return probabilities of each feature being glacially derived, rather than binary 1/0 values. Setting \"probability=False\" and not specifying a threshold will default to a threshold of 50%. The input option \"threshold\" is the probability threshold. Metrics and comparisons for which model and probability threshold are best suited for your data may be found in \"performance_metrics.ipynb\" and \"RandomForest.ipynb\"."
   ]
  },
  {
   "cell_type": "code",
   "execution_count": 5,
   "id": "b5c2fbf6-e45d-4641-aa27-8d20d49fdc66",
   "metadata": {},
   "outputs": [],
   "source": [
    "#optimized model for highest bedform detection probability\n",
    "rf_bedforms = ClassifyBedforms('~/rf_bedform_mapping/data/wi_McKenziefilter.csv',\n",
    "                            model='random_forest', \n",
    "                            threshold=0.5, probability=False)"
   ]
  },
  {
   "cell_type": "code",
   "execution_count": 6,
   "id": "5a78c73d-007b-47d8-8dcf-57a5984c6e69",
   "metadata": {},
   "outputs": [],
   "source": [
    "#add predictions to the original dataset\n",
    "rf_predicted_bedforms = rf_bedforms.predicted_bedforms\n",
    "newdata['rf_bedform_pred'] = rf_predicted_bedforms.tolist()"
   ]
  },
  {
   "cell_type": "markdown",
   "id": "24037435-61e9-45aa-b58e-d822769be23b",
   "metadata": {},
   "source": [
    "### Run Optimized XGBoost Model on new data"
   ]
  },
  {
   "cell_type": "code",
   "execution_count": 7,
   "id": "bd3c1b21",
   "metadata": {},
   "outputs": [],
   "source": [
    "#optimized model for highest bedform detection probability\n",
    "xgb_bedforms = ClassifyBedforms('~/rf_bedform_mapping/data/wi_McKenziefilter.csv',\n",
    "                            model= 'xgboost', \n",
    "                            threshold=0.4, probability=False)"
   ]
  },
  {
   "cell_type": "code",
   "execution_count": 8,
   "id": "c325d30a",
   "metadata": {},
   "outputs": [],
   "source": [
    "#add predictions to the original dataset\n",
    "xgb_predicted_bedforms = xgb_bedforms.predicted_bedforms\n",
    "newdata['xgb_bedform_pred'] = xgb_predicted_bedforms.tolist()"
   ]
  },
  {
   "cell_type": "markdown",
   "id": "3697917d-c4e8-44a9-a55f-9139ee2bc44d",
   "metadata": {},
   "source": [
    "### Run Optimized Ensemble Model on new data"
   ]
  },
  {
   "cell_type": "code",
   "execution_count": 9,
   "id": "2416072d",
   "metadata": {},
   "outputs": [],
   "source": [
    "#optimized model for highest bedform detection probability\n",
    "ens_bedforms = ClassifyBedforms('~/rf_bedform_mapping/data/wi_McKenziefilter.csv',\n",
    "                            model='ensemble_average', \n",
    "                            threshold=0.45, probability=False)"
   ]
  },
  {
   "cell_type": "code",
   "execution_count": 10,
   "id": "00fafe50",
   "metadata": {},
   "outputs": [],
   "source": [
    "#add predictions to the original dataset\n",
    "ens_predicted_bedforms = ens_bedforms.predicted_bedforms\n",
    "newdata['ens_bedform_pred'] = ens_predicted_bedforms.tolist()"
   ]
  },
  {
   "cell_type": "code",
   "execution_count": 11,
   "id": "d7ef6b9f-cdd7-4548-9038-a1b3914bcc4c",
   "metadata": {},
   "outputs": [],
   "source": [
    "#Export new datafile with all columns of predicted bedforms\n",
    "newdata.to_csv('~/rf_bedform_mapping/data/wi_McKenziemodels_output.csv', index=False)"
   ]
  },
  {
   "cell_type": "markdown",
   "id": "6594ee76-6bbe-4108-97b7-3ebdd70299f8",
   "metadata": {},
   "source": [
    "## Using manually-determined accuracy, calculate performance metrics"
   ]
  },
  {
   "cell_type": "markdown",
   "id": "2af5acc7-979f-4a82-a6a7-f3a680cefe74",
   "metadata": {},
   "source": [
    "From the \"performance_metrics.ipynb\" file, we will be using established performance metrics, or quantitative measures used to assess the effectiveness or quality of model predictions in machine learning tasks. We'll be using metrics available in the `sklearn` library."
   ]
  },
  {
   "cell_type": "markdown",
   "id": "e4fae095-b598-40c5-aabd-9253896f1e11",
   "metadata": {},
   "source": [
    "### Performance metrics for optimized random forest model"
   ]
  },
  {
   "cell_type": "markdown",
   "id": "a2d177fe-4b8e-4799-9fbc-f5a07e283d3d",
   "metadata": {},
   "source": [
    "We'll start with the most straightforward measure, called \"accuracy,\" which measures the ratio of correctly classified instances over all instances. The equation is (Number of True Positives + Number of True Negatives)/(Number of all Predictions). The 'measured_bedforms' are the manually determined bedforms from TPI analysis and while seemingly the most accurate, are still subject to human error in their identification. "
   ]
  },
  {
   "cell_type": "code",
   "execution_count": 12,
   "id": "27c001c3-5e93-465a-9e4f-129157edfd14",
   "metadata": {},
   "outputs": [],
   "source": [
    "measured_bedforms = np.array(newdata['Y/N'])"
   ]
  },
  {
   "cell_type": "code",
   "execution_count": 13,
   "id": "4f8341c5-3d25-4070-95f2-fa5f7ffe571b",
   "metadata": {},
   "outputs": [
    {
     "name": "stdout",
     "output_type": "stream",
     "text": [
      "Random Forest Accuracy: 0.763653483992467\n"
     ]
    }
   ],
   "source": [
    "rf_accuracy = accuracy_score(measured_bedforms, rf_predicted_bedforms)\n",
    "print(\"Random Forest Accuracy:\", rf_accuracy)"
   ]
  },
  {
   "cell_type": "markdown",
   "id": "95358612-8dd1-43e3-93f8-87791a7f08dd",
   "metadata": {},
   "source": [
    "\"Precision\" is also a commonly used metric, and measures the ratio of true positives to all predicted positives. The equation is (Number of True Positives)/(Number of True Positives + Number of False Positives)."
   ]
  },
  {
   "cell_type": "code",
   "execution_count": 14,
   "id": "e420c48f-8597-472c-a4ca-7d5e89f44f08",
   "metadata": {},
   "outputs": [
    {
     "name": "stdout",
     "output_type": "stream",
     "text": [
      "Random Forest Precision: 0.5963855421686747\n"
     ]
    }
   ],
   "source": [
    "rf_precision = precision_score(measured_bedforms, rf_predicted_bedforms)\n",
    "print(\"Random Forest Precision:\", rf_precision)"
   ]
  },
  {
   "cell_type": "markdown",
   "id": "7aad1a65-4ca7-4600-ab77-597a38366988",
   "metadata": {},
   "source": [
    "\"Recall\" measures the ratio of actual positives that are correctly identified by the classifier while accounting for positives missed by the classifier. It's calculated as (Number of True Positives)/(Number of True Positives + Number of False Negatives). Recall can be used to optimize in CV when the cost of false negatives is high, i.e. when a model has a tendency to underpredict, which the current state of our model does."
   ]
  },
  {
   "cell_type": "code",
   "execution_count": 15,
   "id": "913c7444-84e5-48af-afe7-397879821ef9",
   "metadata": {},
   "outputs": [
    {
     "name": "stdout",
     "output_type": "stream",
     "text": [
      "Random Forest Recall: 0.6285714285714286\n"
     ]
    }
   ],
   "source": [
    "rf_recall = recall_score(measured_bedforms, rf_predicted_bedforms)\n",
    "print(\"Random Forest Recall:\", rf_recall)"
   ]
  },
  {
   "cell_type": "markdown",
   "id": "6aaaa045-2d67-4af2-997c-fbe4236136b1",
   "metadata": {},
   "source": [
    "The \"F1 score\" is the harmonic mean between precision and recall. This means that an F1 score provides a balanced measure between precision and recall tipped towards the lower score, making it a useful metric for evaluating classifiers in situations where you want to consider both false positives and false negatives equally."
   ]
  },
  {
   "cell_type": "code",
   "execution_count": 16,
   "id": "4fe6e878-4ed5-48db-982b-9b2e8b4978c4",
   "metadata": {},
   "outputs": [
    {
     "name": "stdout",
     "output_type": "stream",
     "text": [
      "Random Forest F1 Score: 0.6120556414219475\n"
     ]
    }
   ],
   "source": [
    "rf_f1 = f1_score(measured_bedforms, rf_predicted_bedforms)\n",
    "print(\"Random Forest F1 Score:\", rf_f1)"
   ]
  },
  {
   "cell_type": "markdown",
   "id": "d915e23d-e4ac-400a-bfac-8976f50f397f",
   "metadata": {},
   "source": [
    "Finally, the assessment that you might have seen in other papers, the \"confusion matrix.\" The confusion matrix is nice because it allows for easy visualization of the model performance. In our case of binary classficiation, it is a 2x2 matrix showing number of true positives, number of false positives, number of true negatives, and number of false negatives. It can also be measured using `sklearn`."
   ]
  },
  {
   "cell_type": "code",
   "execution_count": 17,
   "id": "9894e4f0-be24-448e-8f10-9910cec0e694",
   "metadata": {},
   "outputs": [],
   "source": [
    "rf_conf_matrix = confusion_matrix(measured_bedforms, rf_predicted_bedforms)"
   ]
  },
  {
   "cell_type": "code",
   "execution_count": 18,
   "id": "c8e88c1a-d189-468b-8709-64dc94638011",
   "metadata": {},
   "outputs": [
    {
     "data": {
      "image/png": "[encoded data removed]",
      "text/plain": [
       "<Figure size 640x480 with 2 Axes>"
      ]
     },
     "metadata": {},
     "output_type": "display_data"
    }
   ],
   "source": [
    "plot_rate_matrix(rf_conf_matrix)"
   ]
  },
  {
   "cell_type": "markdown",
   "id": "5065e3f8-76c4-4354-8877-93606fc87940",
   "metadata": {},
   "source": [
    "### Performance metrics for optimized XGBoost model"
   ]
  },
  {
   "cell_type": "code",
   "execution_count": 19,
   "id": "9b2abb4c-1fa1-40f1-86bd-4b149623c413",
   "metadata": {},
   "outputs": [
    {
     "name": "stdout",
     "output_type": "stream",
     "text": [
      "XGBoost Model Accuracy: 0.7727558066541117\n"
     ]
    }
   ],
   "source": [
    "xgb_accuracy = accuracy_score(measured_bedforms, xgb_predicted_bedforms)\n",
    "print(\"XGBoost Model Accuracy:\", xgb_accuracy)"
   ]
  },
  {
   "cell_type": "code",
   "execution_count": 20,
   "id": "96ea180b-d305-4163-8554-1f286b63549b",
   "metadata": {},
   "outputs": [
    {
     "name": "stdout",
     "output_type": "stream",
     "text": [
      "XGBoost Model Precision: 0.5753237900477164\n"
     ]
    }
   ],
   "source": [
    "xgb_precision = precision_score(measured_bedforms, xgb_predicted_bedforms)\n",
    "print(\"XGBoost Model Precision:\", xgb_precision)"
   ]
  },
  {
   "cell_type": "code",
   "execution_count": 21,
   "id": "7f288318-cd61-4f7f-9c9e-f2456d8275d1",
   "metadata": {},
   "outputs": [
    {
     "name": "stdout",
     "output_type": "stream",
     "text": [
      "XGBoost Model Recall: 0.8931216931216931\n"
     ]
    }
   ],
   "source": [
    "xgb_recall = recall_score(measured_bedforms, xgb_predicted_bedforms)\n",
    "print(\"XGBoost Model Recall:\", xgb_recall)"
   ]
  },
  {
   "cell_type": "code",
   "execution_count": 22,
   "id": "027cac33-5f64-462a-803f-63710da7efc2",
   "metadata": {},
   "outputs": [
    {
     "name": "stdout",
     "output_type": "stream",
     "text": [
      "XGBoost Model F1 Score: 0.6998341625207297\n"
     ]
    }
   ],
   "source": [
    "xgb_f1 = f1_score(measured_bedforms, xgb_predicted_bedforms)\n",
    "print(\"XGBoost Model F1 Score:\", xgb_f1)"
   ]
  },
  {
   "cell_type": "code",
   "execution_count": 23,
   "id": "7b11c7ac-06c6-4571-9f1f-a2c6ba01f3f2",
   "metadata": {},
   "outputs": [],
   "source": [
    "xgb_conf_matrix = confusion_matrix(measured_bedforms, xgb_predicted_bedforms)"
   ]
  },
  {
   "cell_type": "code",
   "execution_count": 24,
   "id": "6426bf2d-b550-4d97-ac4b-666a5728fb0a",
   "metadata": {},
   "outputs": [
    {
     "data": {
      "image/png": "[encoded data removed]",
      "text/plain": [
       "<Figure size 640x480 with 2 Axes>"
      ]
     },
     "metadata": {},
     "output_type": "display_data"
    }
   ],
   "source": [
    "plot_rate_matrix(xgb_conf_matrix)"
   ]
  },
  {
   "cell_type": "markdown",
   "id": "e4ad97bf-6fb9-49ef-84b3-36d979033777",
   "metadata": {},
   "source": [
    "### Performance metrics for optimized Ensemble model"
   ]
  },
  {
   "cell_type": "code",
   "execution_count": 25,
   "id": "be4abdfb-8fd0-41d6-810f-f384a4252a85",
   "metadata": {},
   "outputs": [
    {
     "name": "stdout",
     "output_type": "stream",
     "text": [
      "Ensemble Model Accuracy: 0.783427495291902\n"
     ]
    }
   ],
   "source": [
    "ens_accuracy = accuracy_score(measured_bedforms, ens_predicted_bedforms)\n",
    "print(\"Ensemble Model Accuracy:\", ens_accuracy)"
   ]
  },
  {
   "cell_type": "code",
   "execution_count": 26,
   "id": "9ad3b8b3-0981-405b-a1a8-9d2ed2c6856a",
   "metadata": {},
   "outputs": [
    {
     "name": "stdout",
     "output_type": "stream",
     "text": [
      "Ensemble Model Precision: 0.6105810928013877\n"
     ]
    }
   ],
   "source": [
    "ens_precision = precision_score(measured_bedforms, ens_predicted_bedforms)\n",
    "print(\"Ensemble Model Precision:\", ens_precision)"
   ]
  },
  {
   "cell_type": "code",
   "execution_count": 27,
   "id": "32ed8194-b55e-4a86-908b-0421e168005b",
   "metadata": {},
   "outputs": [
    {
     "name": "stdout",
     "output_type": "stream",
     "text": [
      "Ensemble Model Recall: 0.744973544973545\n"
     ]
    }
   ],
   "source": [
    "ens_recall = recall_score(measured_bedforms, ens_predicted_bedforms)\n",
    "print(\"Ensemble Model Recall:\", ens_recall)"
   ]
  },
  {
   "cell_type": "code",
   "execution_count": 28,
   "id": "1c70bf33-16ba-4dd9-a920-3ec2e4b9e0b8",
   "metadata": {},
   "outputs": [
    {
     "name": "stdout",
     "output_type": "stream",
     "text": [
      "Ensemble Model F1 Score: 0.6711153479504289\n"
     ]
    }
   ],
   "source": [
    "ens_f1 = f1_score(measured_bedforms, ens_predicted_bedforms)\n",
    "print(\"Ensemble Model F1 Score:\", ens_f1)"
   ]
  },
  {
   "cell_type": "code",
   "execution_count": 29,
   "id": "c410edac-26d7-419a-b06f-f0514bce03c4",
   "metadata": {},
   "outputs": [],
   "source": [
    "ens_conf_matrix = confusion_matrix(measured_bedforms, ens_predicted_bedforms)"
   ]
  },
  {
   "cell_type": "code",
   "execution_count": 30,
   "id": "23bd57a8-396b-49e8-bf24-cd78de99aee3",
   "metadata": {},
   "outputs": [
    {
     "data": {
      "image/png": "[encoded data removed]",
      "text/plain": [
       "<Figure size 640x480 with 2 Axes>"
      ]
     },
     "metadata": {},
     "output_type": "display_data"
    }
   ],
   "source": [
    "plot_rate_matrix(ens_conf_matrix)"
   ]
  },
  {
   "cell_type": "markdown",
   "id": "dbafcdc5-6f62-4d5e-b179-c22336de701c",
   "metadata": {},
   "source": [
    "## Visualizing the ROC Curve and F1 Score for all three fits\n",
    "\n",
    "The ROC curve is a measure of how much overprediction is necessary to capture all of the true bedforms. Ideally, we would detect all bedforms without making any overpredictions (false positives), but more typically some overpredictions are made. A curve with an area under the curve (AUC) closer to 1 means that the corresponding model is better at finding more true positives without as many false positives. \n",
    "\n",
    "The F1 score as a function of probability threshold indicates the optimal probability threshold for a particular model to be used at. This tells us if we're using the optimal thresholding in our predictions to get at the most true positives with the least false positives and false negatives."
   ]
  },
  {
   "cell_type": "code",
   "execution_count": 1,
   "id": "8983b294-4c08-46fd-8f81-ff15f4d2e0a5",
   "metadata": {},
   "outputs": [],
   "source": [
    "from sklearn.metrics import auc, roc_curve\n",
    "from sklearn.metrics import RocCurveDisplay"
   ]
  },
  {
   "cell_type": "markdown",
   "id": "1f3d3f0a-c519-444f-b680-bed7a54a766d",
   "metadata": {},
   "source": [
    "First we'll calculate the ROCs and AUCs for each model:"
   ]
  },
  {
   "cell_type": "code",
   "execution_count": 33,
   "id": "78abc192-57b0-4b45-b1a4-2ff7fea5f645",
   "metadata": {},
   "outputs": [],
   "source": [
    "rf_estimated_bedforms = ClassifyBedforms('~/rf_bedform_mapping/data/wi_McKenziefilter.csv',\n",
    "                                         model='random_forest', \n",
    "                                         probability=True).predicted_bedforms\n",
    "\n",
    "xgb_estimated_bedforms = ClassifyBedforms('~/rf_bedform_mapping/data/wi_McKenziefilter.csv',\n",
    "                                          model='xgboost', \n",
    "                                          probability=True).predicted_bedforms\n",
    "\n",
    "ens_estimated_bedforms = ClassifyBedforms('~/rf_bedform_mapping/data/wi_McKenziefilter.csv',\n",
    "                                          model='ensemble_average', \n",
    "                                          probability=True).predicted_bedforms"
   ]
  },
  {
   "cell_type": "code",
   "execution_count": 36,
   "id": "305215b6-6e75-4a45-89c7-c5e8ec77415b",
   "metadata": {},
   "outputs": [],
   "source": [
    "# Calculate ROC curves and AUCs for each model\n",
    "fpr_ens, tpr_ens, _ = roc_curve(measured_bedforms, ens_estimated_bedforms)\n",
    "roc_auc_ens = auc(fpr_ens, tpr_ens)\n",
    "\n",
    "fpr_rf, tpr_rf, _ = roc_curve(measured_bedforms, rf_estimated_bedforms)\n",
    "roc_auc_rf = auc(fpr_rf, tpr_rf)\n",
    "\n",
    "fpr_xgb, tpr_xgb, _ = roc_curve(measured_bedforms, xgb_estimated_bedforms)\n",
    "roc_auc_xgb = auc(fpr_xgb, tpr_xgb)"
   ]
  },
  {
   "cell_type": "markdown",
   "id": "72d9bde1-87db-40b6-81a7-c3b3919a299c",
   "metadata": {},
   "source": [
    "Next we'll calculate the F1 score as a function of estimate probability for each model."
   ]
  },
  {
   "cell_type": "code",
   "execution_count": 40,
   "id": "e589868a-ae67-4bf2-ad38-a381c967d73e",
   "metadata": {},
   "outputs": [],
   "source": [
    "thresholds = np.concatenate((np.arange(0.01,0.1,0.01), np.arange(0.1,0.9,0.05), np.arange(0.9,1,0.01)))\n",
    "rf_thresh_arrays = np.zeros((len(thresholds),len(rf_estimated_bedforms)))\n",
    "xgb_thresh_arrays = np.zeros((len(thresholds),len(xgb_estimated_bedforms)))\n",
    "ens_thresh_arrays = np.zeros((len(thresholds),len(ens_estimated_bedforms)))"
   ]
  },
  {
   "cell_type": "code",
   "execution_count": 41,
   "id": "3df7847c-89c2-40f6-bb9d-51dba6d61d88",
   "metadata": {},
   "outputs": [],
   "source": [
    "def thresh(arr, threshold):\n",
    "    thresholded_arr = (arr >= threshold).astype(int)\n",
    "\n",
    "    return thresholded_arr"
   ]
  },
  {
   "cell_type": "code",
   "execution_count": 42,
   "id": "5f9cdefa-d065-4796-91d8-45a964241830",
   "metadata": {},
   "outputs": [],
   "source": [
    "for idx in range(len(rf_thresh_arrays)):\n",
    "    rf_thresh_arrays[idx] =  thresh(rf_estimated_bedforms, thresholds[idx])\n",
    "    xgb_thresh_arrays[idx] =  thresh(xgb_estimated_bedforms, thresholds[idx])\n",
    "    ens_thresh_arrays[idx] =  thresh(ens_estimated_bedforms, thresholds[idx])"
   ]
  },
  {
   "cell_type": "code",
   "execution_count": 43,
   "id": "201efdab-8a8e-4e33-8184-a68d4a3ee90a",
   "metadata": {},
   "outputs": [],
   "source": [
    "rf_f1s = np.zeros(len(thresholds))\n",
    "xgb_f1s = np.zeros(len(thresholds))\n",
    "ens_f1s = np.zeros(len(thresholds))\n",
    "\n",
    "for idx in range(len(thresholds)):\n",
    "    rf_f1s[idx] = f1_score(measured_bedforms, rf_thresh_arrays[idx])\n",
    "    xgb_f1s[idx] = f1_score(measured_bedforms, xgb_thresh_arrays[idx])\n",
    "    ens_f1s[idx] = f1_score(measured_bedforms, ens_thresh_arrays[idx])"
   ]
  },
  {
   "cell_type": "code",
   "execution_count": null,
   "id": "89ce0e3f-e68d-48ae-b86f-272f1a4a0ad2",
   "metadata": {},
   "outputs": [],
   "source": []
  },
  {
   "cell_type": "code",
   "execution_count": null,
   "id": "9c701ff5-256a-467c-b0f3-3f2fce071561",
   "metadata": {},
   "outputs": [],
   "source": [
    "plt.rcParams['font.family'] = 'DejaVu Serif'\n",
    "\n",
    "# Create figure and axes\n",
    "fig, axs = plt.subplots(1, 2, figsize=(10, 4))\n",
    "\n",
    "# Plot ROC curves for each model on the same plot\n",
    "axs[0].plot(fpr_rf, tpr_rf, \n",
    "             color='#008F8C', linestyle='--', lw=3, \n",
    "             label='Random Forest (AUC = %0.2f)' % roc_auc_rf)\n",
    "axs[0].plot(fpr_ens, tpr_ens, \n",
    "             color='#023535', lw=3,\n",
    "             label='Ensemble Average (AUC = %0.2f)' % roc_auc_ens)\n",
    "axs[0].plot(fpr_xgb, tpr_xgb, \n",
    "             color='#0FC2C0', linestyle=':', lw=3, \n",
    "             label='XGBoost (AUC = %0.2f)' % roc_auc_xgb)\n",
    "\n",
    "axs[0].plot([0, 1], [0, 1], color='k', \n",
    "             linestyle=':', alpha=0.3)\n",
    "axs[0].set_xlim([0.0, 1.0])\n",
    "axs[0].set_ylim([0.0, 1.05])\n",
    "axs[0].set_xlabel('False Positive Rate', fontsize=16)\n",
    "axs[0].set_ylabel('True Positive Rate', fontsize=16)\n",
    "axs[0].legend(loc=\"lower right\")\n",
    "\n",
    "# Right plot\n",
    "axs[1].plot(thresholds, rf_f1s, \n",
    "             color='#008F8C', linestyle='--', lw=3, \n",
    "             label='Random Forest (Threshold Max. = %0.2f)' % thresholds[np.argmax(rf_f1s)])\n",
    "axs[1].plot(thresholds, ens_f1s, \n",
    "             color='#023535', lw=3,\n",
    "             label='Ensemble Average (Threshold Max. = %0.2f)' % thresholds[np.argmax(ens_f1s)])\n",
    "axs[1].plot(thresholds, xgb_f1s, \n",
    "             color='#0FC2C0', linestyle=':', lw=3, \n",
    "             label='XGBoost (Threshold Max. = %0.2f)' % thresholds[np.argmax(xgb_f1s)])\n",
    "axs[1].legend()\n",
    "axs[1].set_xlabel('Bedform Detection Probability', fontsize=16)\n",
    "axs[1].set_ylabel('F1 Score', fontsize=16)\n",
    "# axs[1].set_title('Optimal Probability Threshold', fontsize=16)\n",
    "\n",
    "plt.tight_layout()\n",
    "\n",
    "plt.savefig('figs/detection_threshold.pdf', format='pdf')"
   ]
  }
 ],
 "metadata": {
  "kernelspec": {
   "display_name": "Python 3 (ipykernel)",
   "language": "python",
   "name": "python3"
  },
  "language_info": {
   "codemirror_mode": {
    "name": "ipython",
    "version": 3
   },
   "file_extension": ".py",
   "mimetype": "text/x-python",
   "name": "python",
   "nbconvert_exporter": "python",
   "pygments_lexer": "ipython3",
   "version": "3.11.8"
  }
 },
 "nbformat": 4,
 "nbformat_minor": 5
}
